{
 "cells": [
  {
   "cell_type": "markdown",
   "id": "93c19028-be5a-40bb-a08a-6bc04135f45b",
   "metadata": {},
   "source": [
    "### Problem Statement\n",
    "\n",
    "You are a data scientist / AI engineer working on a classification problem to predict the weather type based on various weather-related features. You have been provided with a dataset named **`\"weather_classification_data.csv\"`**, which includes several parameters affecting weather conditions. The dataset comprises the following columns:\n",
    "\n",
    "- temperature: The temperature in degrees Celsius.\n",
    "- humidity: The humidity percentage.\n",
    "- wind_speed: The wind speed in kilometers per hour.\n",
    "- precipitation (%): The precipitation percentage.\n",
    "- cloud_cover: The cloud cover description.\n",
    "- atmospheric_pressure: The atmospheric pressure in hPa.\n",
    "- uv_index: The UV index.\n",
    "- season: The season during which the data was recorded.\n",
    "- visibility (km): The visibility in kilometers.\n",
    "- location: The type of location where the data was recorded.\n",
    "- weather_type: The target variable for classification, indicating the weather type (Rainy, Sunny, Cloudy, Snowy).\n",
    "  \n",
    "Your task is to use this dataset to build and evaluate machine learning models to predict the weather type based on the given parameters. You will perform data preprocessing, exploratory data analysis, and model training using Support Vector Machine (SVM) with different kernels.\n",
    "\n",
    "Dataset credits: Nikhil Narayan (https://www.kaggle.com/datasets/nikhil7280/weather-type-classification)"
   ]
  },
  {
   "cell_type": "markdown",
   "id": "84c41365-f001-4c8b-96be-39dc402f32e0",
   "metadata": {},
   "source": [
    "**Import Necessary Libraries**"
   ]
  },
  {
   "cell_type": "code",
   "execution_count": 7,
   "id": "992e86da-a9a9-4c01-bc80-af273798c18c",
   "metadata": {},
   "outputs": [],
   "source": [
    "# Import Necessary Libraries\n",
    "import pandas as pd\n",
    "from matplotlib import pyplot as plt\n",
    "import seaborn as sns\n",
    "from sklearn.model_selection import train_test_split\n",
    "from sklearn.metrics import confusion_matrix, classification_report\n",
    "from sklearn.preprocessing import StandardScaler\n",
    "from sklearn.svm import SVC\n",
    "from sklearn.pipeline import Pipeline"
   ]
  },
  {
   "cell_type": "markdown",
   "id": "c30c7ee3-e5ea-49d0-a22a-51d92364eb50",
   "metadata": {},
   "source": [
    "### Task 1: Data Preparation and Exploration\n",
    "\n",
    "1. Import the data from the `\"weather_data.csv\"` file and store it in a DataFrame.\n",
    "2. Display the number of rows and columns in the dataset.\n",
    "3. Display the first few rows of the dataset to understand its structure.\n",
    "4. Check for any missing values in the dataset and handle them appropriately.\n",
    "5. Visualize the distribution of key features using appropriate charts:\n",
    "    - Visualize `season` using a pie chart.\n",
    "    - Visualize `temperature, humidity, and wind_speed` using histograms.\n",
    "    - Visualize `precipitation (%)` using a box plot."
   ]
  },
  {
   "cell_type": "code",
   "execution_count": 4,
   "id": "26839a03-4736-4cec-b184-f2311fc22e5b",
   "metadata": {},
   "outputs": [
    {
     "data": {
      "text/html": [
       "<div>\n",
       "<style scoped>\n",
       "    .dataframe tbody tr th:only-of-type {\n",
       "        vertical-align: middle;\n",
       "    }\n",
       "\n",
       "    .dataframe tbody tr th {\n",
       "        vertical-align: top;\n",
       "    }\n",
       "\n",
       "    .dataframe thead th {\n",
       "        text-align: right;\n",
       "    }\n",
       "</style>\n",
       "<table border=\"1\" class=\"dataframe\">\n",
       "  <thead>\n",
       "    <tr style=\"text-align: right;\">\n",
       "      <th></th>\n",
       "      <th>temperature</th>\n",
       "      <th>humidity</th>\n",
       "      <th>wind_speed</th>\n",
       "      <th>precipitation (%)</th>\n",
       "      <th>cloud_cover</th>\n",
       "      <th>atmospheric_pressure</th>\n",
       "      <th>uv_index</th>\n",
       "      <th>season</th>\n",
       "      <th>visibility (km)</th>\n",
       "      <th>location</th>\n",
       "      <th>weather_type</th>\n",
       "    </tr>\n",
       "  </thead>\n",
       "  <tbody>\n",
       "    <tr>\n",
       "      <th>0</th>\n",
       "      <td>14</td>\n",
       "      <td>73</td>\n",
       "      <td>9.5</td>\n",
       "      <td>82</td>\n",
       "      <td>partly cloudy</td>\n",
       "      <td>1010.82</td>\n",
       "      <td>2</td>\n",
       "      <td>Winter</td>\n",
       "      <td>3.5</td>\n",
       "      <td>inland</td>\n",
       "      <td>Rainy</td>\n",
       "    </tr>\n",
       "    <tr>\n",
       "      <th>1</th>\n",
       "      <td>39</td>\n",
       "      <td>96</td>\n",
       "      <td>8.5</td>\n",
       "      <td>71</td>\n",
       "      <td>partly cloudy</td>\n",
       "      <td>1011.43</td>\n",
       "      <td>7</td>\n",
       "      <td>Spring</td>\n",
       "      <td>10.0</td>\n",
       "      <td>inland</td>\n",
       "      <td>Cloudy</td>\n",
       "    </tr>\n",
       "    <tr>\n",
       "      <th>2</th>\n",
       "      <td>30</td>\n",
       "      <td>64</td>\n",
       "      <td>7.0</td>\n",
       "      <td>16</td>\n",
       "      <td>clear</td>\n",
       "      <td>1018.72</td>\n",
       "      <td>5</td>\n",
       "      <td>Spring</td>\n",
       "      <td>5.5</td>\n",
       "      <td>mountain</td>\n",
       "      <td>Sunny</td>\n",
       "    </tr>\n",
       "    <tr>\n",
       "      <th>3</th>\n",
       "      <td>38</td>\n",
       "      <td>83</td>\n",
       "      <td>1.5</td>\n",
       "      <td>82</td>\n",
       "      <td>clear</td>\n",
       "      <td>1026.25</td>\n",
       "      <td>7</td>\n",
       "      <td>Spring</td>\n",
       "      <td>1.0</td>\n",
       "      <td>coastal</td>\n",
       "      <td>Sunny</td>\n",
       "    </tr>\n",
       "    <tr>\n",
       "      <th>4</th>\n",
       "      <td>27</td>\n",
       "      <td>74</td>\n",
       "      <td>17.0</td>\n",
       "      <td>66</td>\n",
       "      <td>overcast</td>\n",
       "      <td>990.67</td>\n",
       "      <td>1</td>\n",
       "      <td>Winter</td>\n",
       "      <td>2.5</td>\n",
       "      <td>mountain</td>\n",
       "      <td>Rainy</td>\n",
       "    </tr>\n",
       "  </tbody>\n",
       "</table>\n",
       "</div>"
      ],
      "text/plain": [
       "   temperature  humidity  wind_speed  ...  visibility (km)  location  weather_type\n",
       "0           14        73         9.5  ...              3.5    inland         Rainy\n",
       "1           39        96         8.5  ...             10.0    inland        Cloudy\n",
       "2           30        64         7.0  ...              5.5  mountain         Sunny\n",
       "3           38        83         1.5  ...              1.0   coastal         Sunny\n",
       "4           27        74        17.0  ...              2.5  mountain         Rainy\n",
       "\n",
       "[5 rows x 11 columns]"
      ]
     },
     "execution_count": 4,
     "metadata": {},
     "output_type": "execute_result"
    }
   ],
   "source": [
    "# Step 1: Import the data from the \"weather_data.csv\" file\n",
    "df=pd.read_csv('weather_classification_data.csv')\n",
    "\n",
    "# Step 2: Display the number of rows and columns in the dataset\n",
    "df.shape\n",
    "\n",
    "# Step 3: Display the first few rows of the dataset to understand its structure.\n",
    "df.head()"
   ]
  },
  {
   "cell_type": "code",
   "execution_count": 8,
   "id": "78370153-aea9-422f-b43d-fff1f9971be6",
   "metadata": {},
   "outputs": [
    {
     "data": {
      "image/png": "[encoded data removed]",
      "text/plain": [
       "<Figure size 640x480 with 1 Axes>"
      ]
     },
     "metadata": {},
     "output_type": "display_data"
    }
   ],
   "source": [
    "# Step 4: Visualize the distribution of key features\n",
    "\n",
    "# Visualize season using a pie chart\n",
    "df['season'].value_counts().plot(kind='pie', autopct='%1.1f%%', title='Distribution of Season')\n",
    "plt.show()"
   ]
  },
  {
   "cell_type": "code",
   "execution_count": 14,
   "id": "a09abb1b-f888-467b-858f-3e8df9526e1b",
   "metadata": {},
   "outputs": [
    {
     "data": {
      "image/png": "[encoded data removed]",
      "text/plain": [
       "<Figure size 1500x600 with 6 Axes>"
      ]
     },
     "metadata": {},
     "output_type": "display_data"
    }
   ],
   "source": [
    "# Visualize temperature, humidity, and wind_speed using histograms\n",
    "df[['temperature','humidity','wind_speed']].hist(bins=15, figsize=(15, 6), layout=(2, 3))\n",
    "plt.show()"
   ]
  },
  {
   "cell_type": "code",
   "execution_count": 15,
   "id": "2b2dece8-ecd4-4e13-bee3-a3c7cb5cd378",
   "metadata": {},
   "outputs": [
    {
     "data": {
      "image/png": "[encoded data removed]",
      "text/plain": [
       "<Figure size 800x600 with 1 Axes>"
      ]
     },
     "metadata": {},
     "output_type": "display_data"
    }
   ],
   "source": [
    "# Visualize precipitation (%) using a box plot\n",
    "df['precipitation (%)'].plot(kind='box',figsize=(8,6), title= 'Visualize precipitation (%)')\n",
    "plt.show()"
   ]
  },
  {
   "cell_type": "markdown",
   "id": "dcb1c6f8-c4a6-460e-9d12-c8d6b2904775",
   "metadata": {},
   "source": [
    "### Task 2: Data Transformation\n",
    "\n",
    "1. Encode cloud_cover, location and season using one-hot encoding.\n",
    "2. Scale the numerical features (temperature, humidity, wind_speed, precipitation (%), atmospheric_pressure, uv_index, visibility (km)) using StandardScaler.\n",
    "3. Display the first few rows of the updated dataset."
   ]
  },
  {
   "cell_type": "code",
   "execution_count": 18,
   "id": "e1d2f2bc-2c26-4381-9238-df96d0c5ebdd",
   "metadata": {},
   "outputs": [
    {
     "data": {
      "text/html": [
       "<div>\n",
       "<style scoped>\n",
       "    .dataframe tbody tr th:only-of-type {\n",
       "        vertical-align: middle;\n",
       "    }\n",
       "\n",
       "    .dataframe tbody tr th {\n",
       "        vertical-align: top;\n",
       "    }\n",
       "\n",
       "    .dataframe thead th {\n",
       "        text-align: right;\n",
       "    }\n",
       "</style>\n",
       "<table border=\"1\" class=\"dataframe\">\n",
       "  <thead>\n",
       "    <tr style=\"text-align: right;\">\n",
       "      <th></th>\n",
       "      <th>temperature</th>\n",
       "      <th>humidity</th>\n",
       "      <th>wind_speed</th>\n",
       "      <th>precipitation (%)</th>\n",
       "      <th>atmospheric_pressure</th>\n",
       "      <th>uv_index</th>\n",
       "      <th>visibility (km)</th>\n",
       "      <th>weather_type</th>\n",
       "      <th>cloud_cover_cloudy</th>\n",
       "      <th>cloud_cover_overcast</th>\n",
       "      <th>cloud_cover_partly cloudy</th>\n",
       "      <th>location_inland</th>\n",
       "      <th>location_mountain</th>\n",
       "      <th>season_Spring</th>\n",
       "      <th>season_Summer</th>\n",
       "      <th>season_Winter</th>\n",
       "    </tr>\n",
       "  </thead>\n",
       "  <tbody>\n",
       "    <tr>\n",
       "      <th>0</th>\n",
       "      <td>14</td>\n",
       "      <td>73</td>\n",
       "      <td>9.5</td>\n",
       "      <td>82</td>\n",
       "      <td>1010.82</td>\n",
       "      <td>2</td>\n",
       "      <td>3.5</td>\n",
       "      <td>Rainy</td>\n",
       "      <td>False</td>\n",
       "      <td>False</td>\n",
       "      <td>True</td>\n",
       "      <td>True</td>\n",
       "      <td>False</td>\n",
       "      <td>False</td>\n",
       "      <td>False</td>\n",
       "      <td>True</td>\n",
       "    </tr>\n",
       "    <tr>\n",
       "      <th>1</th>\n",
       "      <td>39</td>\n",
       "      <td>96</td>\n",
       "      <td>8.5</td>\n",
       "      <td>71</td>\n",
       "      <td>1011.43</td>\n",
       "      <td>7</td>\n",
       "      <td>10.0</td>\n",
       "      <td>Cloudy</td>\n",
       "      <td>False</td>\n",
       "      <td>False</td>\n",
       "      <td>True</td>\n",
       "      <td>True</td>\n",
       "      <td>False</td>\n",
       "      <td>True</td>\n",
       "      <td>False</td>\n",
       "      <td>False</td>\n",
       "    </tr>\n",
       "    <tr>\n",
       "      <th>2</th>\n",
       "      <td>30</td>\n",
       "      <td>64</td>\n",
       "      <td>7.0</td>\n",
       "      <td>16</td>\n",
       "      <td>1018.72</td>\n",
       "      <td>5</td>\n",
       "      <td>5.5</td>\n",
       "      <td>Sunny</td>\n",
       "      <td>False</td>\n",
       "      <td>False</td>\n",
       "      <td>False</td>\n",
       "      <td>False</td>\n",
       "      <td>True</td>\n",
       "      <td>True</td>\n",
       "      <td>False</td>\n",
       "      <td>False</td>\n",
       "    </tr>\n",
       "    <tr>\n",
       "      <th>3</th>\n",
       "      <td>38</td>\n",
       "      <td>83</td>\n",
       "      <td>1.5</td>\n",
       "      <td>82</td>\n",
       "      <td>1026.25</td>\n",
       "      <td>7</td>\n",
       "      <td>1.0</td>\n",
       "      <td>Sunny</td>\n",
       "      <td>False</td>\n",
       "      <td>False</td>\n",
       "      <td>False</td>\n",
       "      <td>False</td>\n",
       "      <td>False</td>\n",
       "      <td>True</td>\n",
       "      <td>False</td>\n",
       "      <td>False</td>\n",
       "    </tr>\n",
       "    <tr>\n",
       "      <th>4</th>\n",
       "      <td>27</td>\n",
       "      <td>74</td>\n",
       "      <td>17.0</td>\n",
       "      <td>66</td>\n",
       "      <td>990.67</td>\n",
       "      <td>1</td>\n",
       "      <td>2.5</td>\n",
       "      <td>Rainy</td>\n",
       "      <td>False</td>\n",
       "      <td>True</td>\n",
       "      <td>False</td>\n",
       "      <td>False</td>\n",
       "      <td>True</td>\n",
       "      <td>False</td>\n",
       "      <td>False</td>\n",
       "      <td>True</td>\n",
       "    </tr>\n",
       "  </tbody>\n",
       "</table>\n",
       "</div>"
      ],
      "text/plain": [
       "   temperature  humidity  ...  season_Summer  season_Winter\n",
       "0           14        73  ...          False           True\n",
       "1           39        96  ...          False          False\n",
       "2           30        64  ...          False          False\n",
       "3           38        83  ...          False          False\n",
       "4           27        74  ...          False           True\n",
       "\n",
       "[5 rows x 16 columns]"
      ]
     },
     "execution_count": 18,
     "metadata": {},
     "output_type": "execute_result"
    }
   ],
   "source": [
    "# Step 1: Encode cloud_cover, location and season using one-hot encoding.\n",
    "df = pd.get_dummies(df,columns=['cloud_cover','location','season'],drop_first=True)\n",
    "df.head()\n"
   ]
  },
  {
   "cell_type": "code",
   "execution_count": null,
   "id": "9927c4e3-3713-454d-88cd-64b527e610a5",
   "metadata": {},
   "outputs": [],
   "source": [
    "# Step 2: Scale the numerical features\n",
    "scalar=StandardScaler()\n",
    "feature=['temperature', 'humidity', 'wind_speed', 'precipitation (%)', 'atmospheric_pressure', 'uv_index', 'visibility (km)']\n",
    "df[feature]=scalar.fit_transform(df[feature])\n"
   ]
  },
  {
   "cell_type": "code",
   "execution_count": 21,
   "id": "c2e5d484-6f5d-40cd-ae7d-8ff3ae13bb9c",
   "metadata": {},
   "outputs": [
    {
     "data": {
      "text/html": [
       "<div>\n",
       "<style scoped>\n",
       "    .dataframe tbody tr th:only-of-type {\n",
       "        vertical-align: middle;\n",
       "    }\n",
       "\n",
       "    .dataframe tbody tr th {\n",
       "        vertical-align: top;\n",
       "    }\n",
       "\n",
       "    .dataframe thead th {\n",
       "        text-align: right;\n",
       "    }\n",
       "</style>\n",
       "<table border=\"1\" class=\"dataframe\">\n",
       "  <thead>\n",
       "    <tr style=\"text-align: right;\">\n",
       "      <th></th>\n",
       "      <th>temperature</th>\n",
       "      <th>humidity</th>\n",
       "      <th>wind_speed</th>\n",
       "      <th>precipitation (%)</th>\n",
       "      <th>atmospheric_pressure</th>\n",
       "      <th>uv_index</th>\n",
       "      <th>visibility (km)</th>\n",
       "    </tr>\n",
       "  </thead>\n",
       "  <tbody>\n",
       "    <tr>\n",
       "      <th>0</th>\n",
       "      <td>-0.294931</td>\n",
       "      <td>0.212404</td>\n",
       "      <td>-0.048086</td>\n",
       "      <td>0.887629</td>\n",
       "      <td>0.134203</td>\n",
       "      <td>-0.520104</td>\n",
       "      <td>-0.582231</td>\n",
       "    </tr>\n",
       "    <tr>\n",
       "      <th>1</th>\n",
       "      <td>1.143035</td>\n",
       "      <td>1.351385</td>\n",
       "      <td>-0.192836</td>\n",
       "      <td>0.543291</td>\n",
       "      <td>0.150602</td>\n",
       "      <td>0.776424</td>\n",
       "      <td>1.345768</td>\n",
       "    </tr>\n",
       "    <tr>\n",
       "      <th>2</th>\n",
       "      <td>0.625367</td>\n",
       "      <td>-0.233285</td>\n",
       "      <td>-0.409962</td>\n",
       "      <td>-1.178401</td>\n",
       "      <td>0.346579</td>\n",
       "      <td>0.257813</td>\n",
       "      <td>0.010999</td>\n",
       "    </tr>\n",
       "    <tr>\n",
       "      <th>3</th>\n",
       "      <td>1.085516</td>\n",
       "      <td>0.707613</td>\n",
       "      <td>-1.206089</td>\n",
       "      <td>0.887629</td>\n",
       "      <td>0.549008</td>\n",
       "      <td>0.776424</td>\n",
       "      <td>-1.323769</td>\n",
       "    </tr>\n",
       "    <tr>\n",
       "      <th>4</th>\n",
       "      <td>0.452811</td>\n",
       "      <td>0.261924</td>\n",
       "      <td>1.037543</td>\n",
       "      <td>0.386773</td>\n",
       "      <td>-0.407490</td>\n",
       "      <td>-0.779410</td>\n",
       "      <td>-0.878846</td>\n",
       "    </tr>\n",
       "  </tbody>\n",
       "</table>\n",
       "</div>"
      ],
      "text/plain": [
       "   temperature  humidity  ...  uv_index  visibility (km)\n",
       "0    -0.294931  0.212404  ... -0.520104        -0.582231\n",
       "1     1.143035  1.351385  ...  0.776424         1.345768\n",
       "2     0.625367 -0.233285  ...  0.257813         0.010999\n",
       "3     1.085516  0.707613  ...  0.776424        -1.323769\n",
       "4     0.452811  0.261924  ... -0.779410        -0.878846\n",
       "\n",
       "[5 rows x 7 columns]"
      ]
     },
     "execution_count": 21,
     "metadata": {},
     "output_type": "execute_result"
    }
   ],
   "source": [
    "# Step3: Display the first few rows of the updated dataset.\n",
    "df[feature].head()\n"
   ]
  },
  {
   "cell_type": "markdown",
   "id": "4dec953b-e5d5-4f77-aa8b-5cd91934a9ea",
   "metadata": {},
   "source": [
    "### Task 3: Model Training Using SVM with Linear Kernel\n",
    "\n",
    "1. Select the features and the target variable for modeling.\n",
    "2. Split the data into training and test sets with a test size of 30%.\n",
    "3. Initialize and train an SVM model with a linear kernel using the training data.\n",
    "4. Print the model's accuracy score on test data.\n",
    "5. Evaluate the model using a classification report and confusion matrix."
   ]
  },
  {
   "cell_type": "code",
   "execution_count": 22,
   "id": "bc04c2fa-01e6-4b6a-8ff8-47ef12a64668",
   "metadata": {},
   "outputs": [],
   "source": [
    "# Step 1: Select features and target variable\n",
    "X = df.drop('weather_type', axis=1)\n",
    "y = df['weather_type']\n",
    "\n",
    "\n",
    "\n",
    "# Step 2: Split the data\n",
    "X_train, X_test, y_train, y_test = train_test_split(X, y, test_size=0.3, random_state=42)"
   ]
  },
  {
   "cell_type": "code",
   "execution_count": 23,
   "id": "73344288-6446-4b32-acc4-b3bd0afbc4e6",
   "metadata": {},
   "outputs": [
    {
     "data": {
      "text/plain": [
       "0.8845959595959596"
      ]
     },
     "execution_count": 23,
     "metadata": {},
     "output_type": "execute_result"
    }
   ],
   "source": [
    "# Step 3: Train SVM with linear kernel\n",
    "model= SVC(kernel='linear')\n",
    "model.fit(X_train,y_train)\n",
    "\n",
    "# Step 4: Print accuracy score\n",
    "model.score(X_test,y_test)\n"
   ]
  },
  {
   "cell_type": "code",
   "execution_count": 25,
   "id": "61d4ff17-c4d0-4c63-9643-56b2e920a261",
   "metadata": {},
   "outputs": [
    {
     "name": "stdout",
     "output_type": "stream",
     "text": [
      "              precision    recall  f1-score   support\n",
      "\n",
      "      Cloudy       0.86      0.84      0.85       955\n",
      "       Rainy       0.87      0.87      0.87       982\n",
      "       Snowy       0.88      0.94      0.91      1033\n",
      "       Sunny       0.92      0.88      0.90       990\n",
      "\n",
      "    accuracy                           0.88      3960\n",
      "   macro avg       0.88      0.88      0.88      3960\n",
      "weighted avg       0.88      0.88      0.88      3960\n",
      "\n",
      "[[806  82  28  39]\n",
      " [ 49 852  67  14]\n",
      " [ 26  12 974  21]\n",
      " [ 57  29  33 871]]\n"
     ]
    }
   ],
   "source": [
    "# Step 5: Evaluate the model\n",
    "y_pred=model.predict(X_test)\n",
    "\n",
    "#classification report\n",
    "print(classification_report(y_test,y_pred))\n",
    "\n",
    "\n",
    "#confusion matrix\n",
    "print(confusion_matrix(y_test,y_pred))\n"
   ]
  },
  {
   "cell_type": "markdown",
   "id": "2f09678a-daba-4444-a4af-4472dd9141b3",
   "metadata": {},
   "source": [
    "### Task 4: Model Training Using SVM with RBF Kernel\n",
    "\n",
    "1. Initialize and train an SVM model with an RBF kernel using the training data.\n",
    "2. Print the model's accuracy score on test data.\n",
    "3. Evaluate the model using a classification report and confusion matrix."
   ]
  },
  {
   "cell_type": "code",
   "execution_count": 27,
   "id": "45c809ed-1a87-4310-a1ee-2a5b7eca662d",
   "metadata": {},
   "outputs": [
    {
     "name": "stdout",
     "output_type": "stream",
     "text": [
      "              precision    recall  f1-score   support\n",
      "\n",
      "      Cloudy       0.86      0.88      0.87       955\n",
      "       Rainy       0.89      0.91      0.90       982\n",
      "       Snowy       0.94      0.94      0.94      1033\n",
      "       Sunny       0.93      0.89      0.91       990\n",
      "\n",
      "    accuracy                           0.91      3960\n",
      "   macro avg       0.91      0.91      0.91      3960\n",
      "weighted avg       0.91      0.91      0.91      3960\n",
      "\n",
      "[[843  64  24  24]\n",
      " [ 54 891  13  24]\n",
      " [ 30  14 968  21]\n",
      " [ 48  28  30 884]]\n"
     ]
    }
   ],
   "source": [
    "# Step 1: Train SVM with RBF kernel\n",
    "model= SVC(kernel='rbf')\n",
    "model.fit(X_train,y_train)\n",
    "\n",
    "# Step 4: Print accuracy score\n",
    "model.score(X_test,y_test)\n",
    "\n",
    "\n",
    "\n",
    "\n",
    "# Step 3: Evaluate the model\n",
    "\n",
    "y_pred=model.predict(X_test)\n",
    "\n",
    "#classification report\n",
    "print(classification_report(y_test,y_pred))\n",
    "\n",
    "\n",
    "#confusion matrix\n",
    "print(confusion_matrix(y_test,y_pred))\n",
    "\n"
   ]
  },
  {
   "cell_type": "markdown",
   "id": "27f358d2-a51b-4cd7-94bc-f33e8f32b0e7",
   "metadata": {},
   "source": [
    "### Task 5: Experiment with Hyperparameters in SVM\n",
    "\n",
    "1. Train an SVM model with an RBF kernel and the following hyperparameters:\n",
    "    - C=0.5\n",
    "    - gamma='auto'\n",
    "    - kernel='rbf'\n",
    "    - degree=2\n",
    "      \n",
    "Learn about these parameters here: [SVC Parameters](https://scikit-learn.org/stable/modules/generated/sklearn.svm.SVC.html)\n",
    "\n",
    "--------------------------------------------------------------------------------------------------------------------------------------------------------\n",
    "\n",
    "2. Print the model's accuracy score on test data.\n",
    "3. Evaluate the model using a classification report and confusion matrix."
   ]
  },
  {
   "cell_type": "code",
   "execution_count": 13,
   "id": "2e222cc7-2fa4-4e45-a6d5-a1889763a7e7",
   "metadata": {},
   "outputs": [],
   "source": [
    "# Step 1: Train the SVM model with specified hyperparameters\n",
    "\n",
    "\n",
    "# Step 2: Print the model's accuracy score\n",
    "\n",
    "\n",
    "\n",
    "# Step 3: Make predictions on the test set\n",
    "\n",
    "\n",
    "\n",
    "# Step 4: Evaluate the model using a classification report and confusion matrix\n",
    "\n",
    "\n",
    "#classification report\n",
    "\n",
    "\n",
    "\n",
    "#confusion matrix\n",
    "\n"
   ]
  },
  {
   "cell_type": "markdown",
   "id": "47fc95f6-3538-49ab-9eea-438662d0569a",
   "metadata": {},
   "source": [
    "### Task 6: Implementing Sklearn Pipeline\n",
    "\n",
    "1. Create a pipeline that includes the StandardScaler and the SVM model with an RBF kernel.\n",
    "2. Train the pipeline using the training data.\n",
    "3. Evaluate the pipeline using the test data and print the classification report."
   ]
  },
  {
   "cell_type": "code",
   "execution_count": 35,
   "id": "a766b1f7-a765-43f0-8677-a49c07b3f1c7",
   "metadata": {},
   "outputs": [
    {
     "name": "stdout",
     "output_type": "stream",
     "text": [
      "              precision    recall  f1-score   support\n",
      "\n",
      "      Cloudy       0.87      0.88      0.87       955\n",
      "       Rainy       0.89      0.91      0.90       982\n",
      "       Snowy       0.92      0.94      0.93      1033\n",
      "       Sunny       0.93      0.89      0.91       990\n",
      "\n",
      "    accuracy                           0.90      3960\n",
      "   macro avg       0.90      0.90      0.90      3960\n",
      "weighted avg       0.90      0.90      0.90      3960\n",
      "\n",
      "[[836  64  29  26]\n",
      " [ 47 892  22  21]\n",
      " [ 30  16 971  16]\n",
      " [ 52  27  29 882]]\n",
      "Score: 90.43%\n"
     ]
    }
   ],
   "source": [
    "# Create a pipeline with two steps: scaling and SVM with RBF kernel\n",
    "pipe = Pipeline([\n",
    "    ('scalar', StandardScaler()),\n",
    "    ('svm', SVC(kernel='rbf'))\n",
    "])\n",
    "\n",
    "# Fit the pipeline on the training data\n",
    "pipe.fit(X_train,y_train)\n",
    "\n",
    "# Make predictions using the pipeline on the test data\n",
    "y_pred_pipe=pipe.predict(X_test)\n",
    "\n",
    "# Print the classification report for the pipeline model\n",
    "print(classification_report(y_test,y_pred_pipe))\n",
    "\n",
    "\n",
    "#confusion matrix\n",
    "print(confusion_matrix(y_test,y_pred_pipe))\n",
    "\n",
    "print(f'Score: {(pipe.score(X_test,y_test)*100).__round__(2)}%')"
   ]
  }
 ],
 "metadata": {
  "kernelspec": {
   "display_name": "Python 3",
   "language": "python",
   "name": "python3"
  },
  "language_info": {
   "codemirror_mode": {
    "name": "ipython",
    "version": 3
   },
   "file_extension": ".py",
   "mimetype": "text/x-python",
   "name": "python",
   "nbconvert_exporter": "python",
   "pygments_lexer": "ipython3",
   "version": "3.12.8"
  }
 },
 "nbformat": 4,
 "nbformat_minor": 5
}
