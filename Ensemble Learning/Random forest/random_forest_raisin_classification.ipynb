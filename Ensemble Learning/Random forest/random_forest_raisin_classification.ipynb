{
 "cells": [
  {
   "cell_type": "markdown",
   "id": "06df6aa1",
   "metadata": {},
   "source": [
    "<h2 align=\"center\">Codebasics ML Course: Random Forest Tutorial</h2>"
   ]
  },
  {
   "cell_type": "markdown",
   "id": "6b1a76b4",
   "metadata": {},
   "source": [
    "### Problem Statement:  Classify raisins into one of the two categories,\n",
    "1. Kecimen\n",
    "1. Besni"
   ]
  },
  {
   "cell_type": "markdown",
   "id": "bbcd81f7",
   "metadata": {},
   "source": [
    "### Dataset Citation\n",
    "This dataset is used under citation guidelines from the original authors. For detailed study and dataset description, see the following references:\n",
    "\n",
    "- **Citation**: Cinar, I., Koklu, M., & Tasdemir, S. (2020). Classification of Raisin Grains Using Machine Vision and Artificial Intelligence Methods. *Gazi Journal of Engineering Sciences, 6*(3), 200-209. DOI: [10.30855/gmbd.2020.03.03](https://doi.org/10.30855/gmbd.2020.03.03)\n",
    "- **Dataset available at**: [Murat Koklu's Dataset Page](https://www.muratkoklu.com/datasets/)\n",
    "- **Article download**: [DergiPark](https://dergipark.org.tr/tr/download/article-file/1227592)\n"
   ]
  },
  {
   "cell_type": "code",
   "execution_count": 1,
   "id": "18ea0cba",
   "metadata": {
    "scrolled": false
   },
   "outputs": [
    {
     "data": {
      "text/html": [
       "<div>\n",
       "<style scoped>\n",
       "    .dataframe tbody tr th:only-of-type {\n",
       "        vertical-align: middle;\n",
       "    }\n",
       "\n",
       "    .dataframe tbody tr th {\n",
       "        vertical-align: top;\n",
       "    }\n",
       "\n",
       "    .dataframe thead th {\n",
       "        text-align: right;\n",
       "    }\n",
       "</style>\n",
       "<table border=\"1\" class=\"dataframe\">\n",
       "  <thead>\n",
       "    <tr style=\"text-align: right;\">\n",
       "      <th></th>\n",
       "      <th>Area</th>\n",
       "      <th>MajorAxisLength</th>\n",
       "      <th>MinorAxisLength</th>\n",
       "      <th>Eccentricity</th>\n",
       "      <th>ConvexArea</th>\n",
       "      <th>Extent</th>\n",
       "      <th>Perimeter</th>\n",
       "      <th>Class</th>\n",
       "    </tr>\n",
       "  </thead>\n",
       "  <tbody>\n",
       "    <tr>\n",
       "      <th>638</th>\n",
       "      <td>101772</td>\n",
       "      <td>477.908944</td>\n",
       "      <td>273.404364</td>\n",
       "      <td>0.820195</td>\n",
       "      <td>104567</td>\n",
       "      <td>0.684338</td>\n",
       "      <td>1266.657</td>\n",
       "      <td>Besni</td>\n",
       "    </tr>\n",
       "    <tr>\n",
       "      <th>241</th>\n",
       "      <td>43345</td>\n",
       "      <td>323.859214</td>\n",
       "      <td>175.185745</td>\n",
       "      <td>0.841066</td>\n",
       "      <td>46785</td>\n",
       "      <td>0.649276</td>\n",
       "      <td>877.020</td>\n",
       "      <td>Kecimen</td>\n",
       "    </tr>\n",
       "    <tr>\n",
       "      <th>196</th>\n",
       "      <td>69312</td>\n",
       "      <td>373.803105</td>\n",
       "      <td>237.194577</td>\n",
       "      <td>0.772887</td>\n",
       "      <td>70719</td>\n",
       "      <td>0.706156</td>\n",
       "      <td>1001.236</td>\n",
       "      <td>Kecimen</td>\n",
       "    </tr>\n",
       "    <tr>\n",
       "      <th>343</th>\n",
       "      <td>65740</td>\n",
       "      <td>348.881156</td>\n",
       "      <td>245.976176</td>\n",
       "      <td>0.709165</td>\n",
       "      <td>69233</td>\n",
       "      <td>0.740816</td>\n",
       "      <td>1036.517</td>\n",
       "      <td>Kecimen</td>\n",
       "    </tr>\n",
       "    <tr>\n",
       "      <th>583</th>\n",
       "      <td>126014</td>\n",
       "      <td>523.186380</td>\n",
       "      <td>309.116830</td>\n",
       "      <td>0.806792</td>\n",
       "      <td>130059</td>\n",
       "      <td>0.736226</td>\n",
       "      <td>1396.906</td>\n",
       "      <td>Besni</td>\n",
       "    </tr>\n",
       "  </tbody>\n",
       "</table>\n",
       "</div>"
      ],
      "text/plain": [
       "       Area  MajorAxisLength  MinorAxisLength  Eccentricity  ConvexArea  \\\n",
       "638  101772       477.908944       273.404364      0.820195      104567   \n",
       "241   43345       323.859214       175.185745      0.841066       46785   \n",
       "196   69312       373.803105       237.194577      0.772887       70719   \n",
       "343   65740       348.881156       245.976176      0.709165       69233   \n",
       "583  126014       523.186380       309.116830      0.806792      130059   \n",
       "\n",
       "       Extent  Perimeter    Class  \n",
       "638  0.684338   1266.657    Besni  \n",
       "241  0.649276    877.020  Kecimen  \n",
       "196  0.706156   1001.236  Kecimen  \n",
       "343  0.740816   1036.517  Kecimen  \n",
       "583  0.736226   1396.906    Besni  "
      ]
     },
     "execution_count": 1,
     "metadata": {},
     "output_type": "execute_result"
    }
   ],
   "source": [
    "import pandas as pd\n",
    "\n",
    "df = pd.read_excel(\"Raisin_Dataset.xlsx\")\n",
    "df.sample(5)"
   ]
  },
  {
   "cell_type": "code",
   "execution_count": 2,
   "id": "16c19d4e",
   "metadata": {},
   "outputs": [
    {
     "data": {
      "text/plain": [
       "(900, 8)"
      ]
     },
     "execution_count": 2,
     "metadata": {},
     "output_type": "execute_result"
    }
   ],
   "source": [
    "df.shape"
   ]
  },
  {
   "cell_type": "markdown",
   "id": "6274e996",
   "metadata": {},
   "source": [
    "There are total 900 records and using all the features that we have available, we will build a classification model by using support vector machine "
   ]
  },
  {
   "cell_type": "markdown",
   "id": "83a5660e",
   "metadata": {},
   "source": [
    "### Train Test Split"
   ]
  },
  {
   "cell_type": "code",
   "execution_count": 3,
   "id": "4c006daa",
   "metadata": {},
   "outputs": [],
   "source": [
    "X = df[[\"Area\", \"MajorAxisLength\", \"MinorAxisLength\", \"Eccentricity\", \"ConvexArea\", \"Extent\", \"Perimeter\"]]\n",
    "y = df[\"Class\"]\n",
    "\n",
    "from sklearn.model_selection import train_test_split\n",
    "\n",
    "X_train, X_test, y_train, y_test = train_test_split(X, y, test_size=0.2, random_state=5)"
   ]
  },
  {
   "cell_type": "markdown",
   "id": "207072d1",
   "metadata": {},
   "source": [
    "### Model Training Using SVM: RBF Kernel"
   ]
  },
  {
   "cell_type": "code",
   "execution_count": 4,
   "id": "f6c899ba",
   "metadata": {
    "scrolled": false
   },
   "outputs": [
    {
     "name": "stdout",
     "output_type": "stream",
     "text": [
      "              precision    recall  f1-score   support\n",
      "\n",
      "       Besni       0.88      0.78      0.83        97\n",
      "     Kecimen       0.78      0.88      0.82        83\n",
      "\n",
      "    accuracy                           0.83       180\n",
      "   macro avg       0.83      0.83      0.83       180\n",
      "weighted avg       0.83      0.83      0.83       180\n",
      "\n"
     ]
    }
   ],
   "source": [
    "from sklearn.svm import SVC\n",
    "\n",
    "model = SVC(kernel=\"rbf\")\n",
    "model.fit(X_train, y_train)\n",
    "\n",
    "y_pred = model.predict(X_test)\n",
    "\n",
    "from sklearn.metrics import classification_report\n",
    "\n",
    "report = classification_report(y_test, y_pred)\n",
    "print(report)"
   ]
  },
  {
   "cell_type": "markdown",
   "id": "35c125bf",
   "metadata": {},
   "source": [
    "### Model Training Using DecisionTreeClassifier"
   ]
  },
  {
   "cell_type": "code",
   "execution_count": 5,
   "id": "f79f41d9",
   "metadata": {
    "scrolled": false
   },
   "outputs": [
    {
     "name": "stdout",
     "output_type": "stream",
     "text": [
      "              precision    recall  f1-score   support\n",
      "\n",
      "       Besni       0.81      0.86      0.83        97\n",
      "     Kecimen       0.82      0.77      0.80        83\n",
      "\n",
      "    accuracy                           0.82       180\n",
      "   macro avg       0.82      0.81      0.81       180\n",
      "weighted avg       0.82      0.82      0.82       180\n",
      "\n"
     ]
    }
   ],
   "source": [
    "from sklearn.tree import DecisionTreeClassifier\n",
    "\n",
    "model = DecisionTreeClassifier()\n",
    "model.fit(X_train, y_train)\n",
    "\n",
    "y_pred = model.predict(X_test)\n",
    "\n",
    "from sklearn.metrics import classification_report\n",
    "\n",
    "report = classification_report(y_test, y_pred)\n",
    "print(report)"
   ]
  },
  {
   "cell_type": "markdown",
   "id": "b6f37b4b",
   "metadata": {},
   "source": [
    "### Model Training Using RandomForestClassifier"
   ]
  },
  {
   "cell_type": "code",
   "execution_count": 6,
   "id": "6dad0946",
   "metadata": {},
   "outputs": [
    {
     "name": "stdout",
     "output_type": "stream",
     "text": [
      "              precision    recall  f1-score   support\n",
      "\n",
      "       Besni       0.90      0.89      0.89        97\n",
      "     Kecimen       0.87      0.88      0.87        83\n",
      "\n",
      "    accuracy                           0.88       180\n",
      "   macro avg       0.88      0.88      0.88       180\n",
      "weighted avg       0.88      0.88      0.88       180\n",
      "\n"
     ]
    }
   ],
   "source": [
    "from sklearn.ensemble import RandomForestClassifier\n",
    "\n",
    "model = RandomForestClassifier(n_estimators=20)\n",
    "model.fit(X_train, y_train)\n",
    "\n",
    "y_pred = model.predict(X_test)\n",
    "\n",
    "from sklearn.metrics import classification_report\n",
    "\n",
    "report = classification_report(y_test, y_pred)\n",
    "print(report)"
   ]
  },
  {
   "cell_type": "markdown",
   "id": "8df04c57",
   "metadata": {},
   "source": [
    "You can see that the model performance is better compared to SVM and DecisionTree"
   ]
  }
 ],
 "metadata": {
  "kernelspec": {
   "display_name": "Python 3",
   "language": "python",
   "name": "python3"
  },
  "language_info": {
   "codemirror_mode": {
    "name": "ipython",
    "version": 3
   },
   "file_extension": ".py",
   "mimetype": "text/x-python",
   "name": "python",
   "nbconvert_exporter": "python",
   "pygments_lexer": "ipython3",
   "version": "3.12.8"
  }
 },
 "nbformat": 4,
 "nbformat_minor": 5
}
